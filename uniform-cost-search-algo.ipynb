{
  "cells": [
    {
      "cell_type": "markdown",
      "metadata": {
        "id": "YG9scHk4W-wx"
      },
      "source": [
        "# Assignment: Pathfinding with Uniform Cost Search\n",
        "\n",
        " "
      ]
    },
    {
      "cell_type": "markdown",
      "metadata": {
        "id": "rA7HKnPQaKp7"
      },
      "source": [
        "# How UCS Works:\n",
        "1. Priority Queue: Uses a special list that always gives you the cheapest option first.\n",
        "2. Greedy for Cost: Always expands the node with the lowest total cost from start.\n",
        "3. Guarantees Optimal: Because it's always choosing the cheapest path first, it will find the best solution."
      ]
    },
    {
      "cell_type": "code",
      "execution_count": null,
      "metadata": {
        "id": "XjKDQ7F9Izej"
      },
      "outputs": [],
      "source": [
        "import heapq\n"
      ]
    },
    {
      "cell_type": "code",
      "execution_count": null,
      "metadata": {
        "colab": {
          "base_uri": "https://localhost:8080/"
        },
        "id": "YVOD7_0sdVgh",
        "outputId": "a4db0563-0955-4bfe-f0c6-81a5c9b9748c"
      },
      "outputs": [
        {
          "name": "stdout",
          "output_type": "stream",
          "text": [
            "A connects to:\n",
            "   → B (cost: 2)\n",
            "   → C (cost: 5)\n",
            "B connects to:\n",
            "   → A (cost: 2)\n",
            "   → C (cost: 6)\n",
            "   → D (cost: 1)\n",
            "C connects to:\n",
            "   → A (cost: 5)\n",
            "   → B (cost: 6)\n",
            "   → D (cost: 3)\n",
            "   → E (cost: 8)\n",
            "D connects to:\n",
            "   → B (cost: 1)\n",
            "   → C (cost: 3)\n",
            "   → E (cost: 4)\n",
            "E connects to:\n",
            "   → C (cost: 8)\n",
            "   → D (cost: 4)\n",
            "\n",
            "📝 TASK 1: Test Case 1 - Find path from A to E\n",
            "----------------------------------------\n",
            "\n",
            " Starting UCS from A to E\n",
            "==================================================\n",
            "Step 1: Exploring 'A' with cost 0\n",
            "   Current path: A\n",
            " Neighbors of 'A':\n",
            "      → Adding 'B' to frontier (cost: 2)\n",
            "      → Adding 'C' to frontier (cost: 5)\n",
            "    Current frontier: [(2, 'B'), (5, 'C')]\n",
            "\n",
            "Step 2: Exploring 'B' with cost 2\n",
            "   Current path: A → B\n",
            " Neighbors of 'B':\n",
            "      → Skipping 'A' (already visited with lower cost)\n",
            "      → Adding 'C' to frontier (cost: 8)\n",
            "      → Adding 'D' to frontier (cost: 3)\n",
            "    Current frontier: [(3, 'D'), (8, 'C'), (5, 'C')]\n",
            "\n",
            "Step 3: Exploring 'D' with cost 3\n",
            "   Current path: A → B → D\n",
            " Neighbors of 'D':\n",
            "      → Skipping 'B' (already visited with lower cost)\n",
            "      → Adding 'C' to frontier (cost: 6)\n",
            "      → Adding 'E' to frontier (cost: 7)\n",
            "    Current frontier: [(5, 'C'), (7, 'E'), (6, 'C'), (8, 'C')]\n",
            "\n",
            "Step 4: Exploring 'C' with cost 5\n",
            "   Current path: A → C\n",
            " Neighbors of 'C':\n",
            "      → Skipping 'A' (already visited with lower cost)\n",
            "      → Skipping 'B' (already visited with lower cost)\n",
            "      → Skipping 'D' (already visited with lower cost)\n",
            "      → Adding 'E' to frontier (cost: 13)\n",
            "    Current frontier: [(6, 'C'), (7, 'E'), (8, 'C'), (13, 'E')]\n",
            "\n",
            "Step 5: Exploring 'C' with cost 6\n",
            "   Current path: A → B → D → C\n",
            "  Already visited 'C' with lower cost, skipping...\n",
            "Step 6: Exploring 'E' with cost 7\n",
            "   Current path: A → B → D → E\n",
            "\n",
            " GOAL REACHED!\n",
            "   Final cost: 7\n",
            "   Final path: A → B → D → E\n",
            "\n",
            " RESULTS FOR A → E:\n",
            "   Minimum Cost: 7\n",
            "   Path: ['A', 'B', 'D', 'E']\n",
            "\n"
          ]
        }
      ],
      "source": [
        "\n",
        "# import heapq\n",
        "from typing import Dict, List, Tuple, Optional\n",
        "def uniform_cost_search(graph: Dict[str, List[Tuple[str, int]]], start: str, goal: str) -> Tuple[int, List[str]]:\n",
        "\n",
        "    # Priority queue: stores (total_cost, current_node, path_to_node)\n",
        "    # heapq always pops the smallest element (lowest cost)\n",
        "    frontier = [(0, start, [start])]\n",
        "\n",
        "    # Keep track of visited nodes with their minimum costs\n",
        "    # This prevents revisiting nodes with higher costs\n",
        "    visited = {}\n",
        "\n",
        "    print(f\"\\n Starting UCS from {start} to {goal}\")\n",
        "    print(\"=\"*50)\n",
        "\n",
        "    step = 1\n",
        "    while frontier:\n",
        "        # Get the node with lowest total cost\n",
        "        current_cost, current_node, path = heapq.heappop(frontier)\n",
        "\n",
        "        print(f\"Step {step}: Exploring '{current_node}' with cost {current_cost}\")\n",
        "        print(f\"   Current path: {' → '.join(path)}\")\n",
        "\n",
        "        # If we've reached the goal, we found the optimal path!\n",
        "        if current_node == goal:\n",
        "            print(f\"\\n GOAL REACHED!\")\n",
        "            print(f\"   Final cost: {current_cost}\")\n",
        "            print(f\"   Final path: {' → '.join(path)}\")\n",
        "            return current_cost, path\n",
        "\n",
        "        # Skip if we've already visited this node with a lower or equal cost\n",
        "        if current_node in visited and visited[current_node] <= current_cost:\n",
        "            print(f\"  Already visited '{current_node}' with lower cost, skipping...\")\n",
        "            step += 1\n",
        "            continue\n",
        "\n",
        "        # Mark this node as visited with its cost\n",
        "        visited[current_node] = current_cost\n",
        "\n",
        "        # Explore all neighbors\n",
        "        print(f\" Neighbors of '{current_node}':\")\n",
        "        for neighbor, edge_cost in graph.get(current_node, []):\n",
        "            new_cost = current_cost + edge_cost\n",
        "            new_path = path + [neighbor]\n",
        "\n",
        "            # Only add to frontier if we haven't visited this neighbor\n",
        "            # with a lower cost\n",
        "            if neighbor not in visited or visited[neighbor] > new_cost:\n",
        "                heapq.heappush(frontier, (new_cost, neighbor, new_path))\n",
        "                print(f\"      → Adding '{neighbor}' to frontier (cost: {new_cost})\")\n",
        "            else:\n",
        "                print(f\"      → Skipping '{neighbor}' (already visited with lower cost)\")\n",
        "\n",
        "        print(f\"    Current frontier: {[(cost, node) for cost, node, _ in frontier]}\")\n",
        "        print()\n",
        "        step += 1\n",
        "\n",
        "    # No path found\n",
        "    print(f\" No path found from {start} to {goal}\")\n",
        "    return float('inf'), []\n",
        "\n",
        "def print_graph_visualization(graph: Dict[str, List[Tuple[str, int]]]):\n",
        "\n",
        "\n",
        "    for node, connections in graph.items():\n",
        "        print(f\"{node} connects to:\")\n",
        "        for neighbor, cost in connections:\n",
        "            print(f\"   → {neighbor} (cost: {cost})\")\n",
        "    print()\n",
        "\n",
        "# Original Graph\n",
        "original_graph = {\n",
        "    'A': [('B', 2), ('C', 5)],\n",
        "    'B': [('A', 2), ('C', 6), ('D', 1)],\n",
        "    'C': [('A', 5), ('B', 6), ('D', 3), ('E', 8)],\n",
        "    'D': [('B', 1), ('C', 3), ('E', 4)],\n",
        "    'E': [('C', 8), ('D', 4)]\n",
        "}\n",
        "\n",
        "# Display the  graph\n",
        "print_graph_visualization(original_graph)\n",
        "\n",
        "\n",
        "\n",
        "print(\"📝 TASK 1: Test Case 1 - Find path from A to E\")\n",
        "print(\"-\" * 40)\n",
        "min_cost_1, path_1 = uniform_cost_search(original_graph, 'A', 'E')\n",
        "print(f\"\\n RESULTS FOR A → E:\")\n",
        "print(f\"   Minimum Cost: {min_cost_1}\")\n",
        "print(f\"   Path: {path_1}\")\n",
        "print()\n",
        "\n",
        "\n",
        "\n",
        "\n",
        "\n",
        "\n",
        "\n"
      ]
    },
    {
      "cell_type": "markdown",
      "metadata": {
        "id": "tH4OVlo7fYAJ"
      },
      "source": [
        "#Test Case 2"
      ]
    },
    {
      "cell_type": "code",
      "execution_count": null,
      "metadata": {
        "colab": {
          "base_uri": "https://localhost:8080/"
        },
        "id": "t_6aRH19fFd5",
        "outputId": "19fc58a0-2f47-44f8-cca4-fcff43e57904"
      },
      "outputs": [
        {
          "name": "stdout",
          "output_type": "stream",
          "text": [
            "A connects to:\n",
            "   → B (cost: 2)\n",
            "   → C (cost: 5)\n",
            "B connects to:\n",
            "   → A (cost: 2)\n",
            "   → C (cost: 6)\n",
            "   → D (cost: 1)\n",
            "C connects to:\n",
            "   → A (cost: 5)\n",
            "   → B (cost: 6)\n",
            "   → D (cost: 3)\n",
            "   → E (cost: 8)\n",
            "D connects to:\n",
            "   → B (cost: 1)\n",
            "   → C (cost: 3)\n",
            "   → E (cost: 4)\n",
            "E connects to:\n",
            "   → C (cost: 8)\n",
            "   → D (cost: 4)\n",
            "   → F (cost: 2)\n",
            "F connects to:\n",
            "   → E (cost: 2)\n",
            "\n",
            "\n",
            " Starting UCS from A to F\n",
            "==================================================\n",
            "Step 1: Exploring 'A' with cost 0\n",
            "   Current path: A\n",
            " Neighbors of 'A':\n",
            "      → Adding 'B' to frontier (cost: 2)\n",
            "      → Adding 'C' to frontier (cost: 5)\n",
            "    Current frontier: [(2, 'B'), (5, 'C')]\n",
            "\n",
            "Step 2: Exploring 'B' with cost 2\n",
            "   Current path: A → B\n",
            " Neighbors of 'B':\n",
            "      → Skipping 'A' (already visited with lower cost)\n",
            "      → Adding 'C' to frontier (cost: 8)\n",
            "      → Adding 'D' to frontier (cost: 3)\n",
            "    Current frontier: [(3, 'D'), (8, 'C'), (5, 'C')]\n",
            "\n",
            "Step 3: Exploring 'D' with cost 3\n",
            "   Current path: A → B → D\n",
            " Neighbors of 'D':\n",
            "      → Skipping 'B' (already visited with lower cost)\n",
            "      → Adding 'C' to frontier (cost: 6)\n",
            "      → Adding 'E' to frontier (cost: 7)\n",
            "    Current frontier: [(5, 'C'), (7, 'E'), (6, 'C'), (8, 'C')]\n",
            "\n",
            "Step 4: Exploring 'C' with cost 5\n",
            "   Current path: A → C\n",
            " Neighbors of 'C':\n",
            "      → Skipping 'A' (already visited with lower cost)\n",
            "      → Skipping 'B' (already visited with lower cost)\n",
            "      → Skipping 'D' (already visited with lower cost)\n",
            "      → Adding 'E' to frontier (cost: 13)\n",
            "    Current frontier: [(6, 'C'), (7, 'E'), (8, 'C'), (13, 'E')]\n",
            "\n",
            "Step 5: Exploring 'C' with cost 6\n",
            "   Current path: A → B → D → C\n",
            "  Already visited 'C' with lower cost, skipping...\n",
            "Step 6: Exploring 'E' with cost 7\n",
            "   Current path: A → B → D → E\n",
            " Neighbors of 'E':\n",
            "      → Skipping 'C' (already visited with lower cost)\n",
            "      → Skipping 'D' (already visited with lower cost)\n",
            "      → Adding 'F' to frontier (cost: 9)\n",
            "    Current frontier: [(8, 'C'), (13, 'E'), (9, 'F')]\n",
            "\n",
            "Step 7: Exploring 'C' with cost 8\n",
            "   Current path: A → B → C\n",
            "  Already visited 'C' with lower cost, skipping...\n",
            "Step 8: Exploring 'F' with cost 9\n",
            "   Current path: A → B → D → E → F\n",
            "\n",
            " GOAL REACHED!\n",
            "   Final cost: 9\n",
            "   Final path: A → B → D → E → F\n",
            "\n",
            " RESULTS FOR A → F:\n",
            "   Minimum Cost: 9\n",
            "   Path: ['A', 'B', 'D', 'E', 'F']\n",
            "\n"
          ]
        }
      ],
      "source": [
        "# Extended Graph with city F\n",
        "extended_graph = {\n",
        "    'A': [('B', 2), ('C', 5)],\n",
        "    'B': [('A', 2), ('C', 6), ('D', 1)],\n",
        "    'C': [('A', 5), ('B', 6), ('D', 3), ('E', 8)],\n",
        "    'D': [('B', 1), ('C', 3), ('E', 4)],\n",
        "    'E': [('C', 8), ('D', 4), ('F', 2)],  # Added connection to F\n",
        "    'F': [('E', 2)]  # New city F\n",
        "}\n",
        "\n",
        "print_graph_visualization(extended_graph)\n",
        "\n",
        "min_cost_2, path_2 = uniform_cost_search(extended_graph, 'A', 'F')\n",
        "print(f\"\\n RESULTS FOR A → F:\")\n",
        "print(f\"   Minimum Cost: {min_cost_2}\")\n",
        "print(f\"   Path: {path_2}\")\n",
        "print()"
      ]
    },
    {
      "cell_type": "markdown",
      "metadata": {
        "id": "E6QAuUgUhjOS"
      },
      "source": [
        "# Write-up Questions (short answers)"
      ]
    },
    {
      "cell_type": "markdown",
      "metadata": {
        "id": "ICv2pIAfhoIz"
      },
      "source": [
        "## (a) How does UCS decide which node to expand next?\n",
        "\n",
        "Solution:\n",
        "UCS always picks the node with the lowest total cost from the starting point.\n",
        "\n",
        "UCS uses a priority queue (like a smart waiting line) where nodes are ordered by their total cost from the start. Think of it like this:\n",
        "\n",
        "Imagine you're at city A and want to reach city E\n",
        "You have multiple paths you could take, each with different costs so far\n",
        "UCS always says: \"Let me explore the cheapest path I haven't fully explored yet\"\n",
        "This ensures we find the absolute cheapest route because we never ignore a potentially cheaper path\n",
        "\n",
        "Technically: UCS maintains a frontier (priority queue) of nodes sorted by path cost g(n), where g(n) is the actual cost from start to node n. It always expands the node with minimum g(n)."
      ]
    },
    {
      "cell_type": "markdown",
      "metadata": {
        "id": "QxL2d-6uh3Uv"
      },
      "source": [
        "## (b) Why does UCS always find the optimal path?\n",
        "Solution:\n",
        "Because it's greedy about cost - it never skips a cheaper option.\n",
        "Explanation:\n",
        "UCS finds the optimal path because of how it explores:\n",
        "\n",
        "Always explores cheapest first: It never ignores a path that might be cheaper\n",
        "When it reaches the goal: The first time UCS reaches the destination, it MUST be via the cheapest possible route\n",
        "Why? Because: If there was a cheaper route, UCS would have explored it first (since it always picks the lowest cost option)\n",
        "\n",
        "Technical: UCS is complete and optimal for non-negative edge weights because it satisfies the optimal substructure property. When a goal is first reached, the path cost is guaranteed to be minimal due to the systematic exploration of paths in order of increasing cost.\n",
        "\n"
      ]
    },
    {
      "cell_type": "markdown",
      "metadata": {
        "id": "tsVRTqlRiyl5"
      },
      "source": [
        "## (c) What would happen if all edge costs were the same?\n",
        " Answer: UCS would behave exactly like Breadth-First Search (BFS).\n",
        "Detailed Explanation:\n",
        "If all edges have the same cost (let's say cost = 1):\n",
        "\n",
        "Level 1: All nodes 1 step away have cost = 1\n",
        "Level 2: All nodes 2 steps away have cost = 2\n",
        "Level 3: All nodes 3 steps away have cost = 3\n",
        "Result: UCS would explore level by level, just like BFS!\n",
        "\n",
        "Why this happens:\n",
        "\n",
        "BFS finds the shortest path in terms of number of edges\n",
        "When all edges cost the same, the shortest path by number of edges = shortest path by total cost\n",
        "So UCS and BFS give identical results!\n",
        "\n",
        "Technically: With uniform edge costs, the cost function g(n) = depth(n) × constant, making UCS equivalent to BFS in exploration order and optimality."
      ]
    }
  ],
  "metadata": {
    "colab": {
      "provenance": []
    },
    "kernelspec": {
      "display_name": "Python 3",
      "name": "python3"
    },
    "language_info": {
      "name": "python"
    }
  },
  "nbformat": 4,
  "nbformat_minor": 0
}
