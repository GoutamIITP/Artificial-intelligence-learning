{
  "cells": [
    {
      "cell_type": "markdown",
      "metadata": {
        "id": "73_MPZ5FbENb"
      },
      "source": [
        "### Hill-Climbing for Traveling Salesman Problem (TSP)\n"
      ]
    },
    {
      "cell_type": "markdown",
      "metadata": {
        "id": "hPopAgsrdab7"
      },
      "source": [
        "## What is Hill-Climbing Algorithm?\n",
        "### Hill-Climbing is a local search optimization algorithm that:\n",
        "1. Starts with an initial solution\n",
        "2. Looks at neighboring solutions\n",
        "3. Moves to a better neighbor if one exists\n",
        "4. Repeats until no better neighbor is found\n",
        "5. Returns the best solution found"
      ]
    },
    {
      "cell_type": "markdown",
      "metadata": {
        "id": "-WQUmCeOe_Zz"
      },
      "source": [
        "##### Aim : To implement a basic Hill-Climbing algorithm for a simplified Traveling Salesman Problem (TSP) with 4 cities."
      ]
    },
    {
      "cell_type": "code",
      "execution_count": 1,
      "metadata": {
        "id": "KztPCRDS7abu"
      },
      "outputs": [],
      "source": [
        "import random"
      ]
    },
    {
      "cell_type": "code",
      "execution_count": 3,
      "metadata": {
        "colab": {
          "base_uri": "https://localhost:8080/"
        },
        "id": "ElzAAgmQgH6D",
        "outputId": "1025c06d-d934-4eb8-bc04-405560d002c3"
      },
      "outputs": [
        {
          "name": "stdout",
          "output_type": "stream",
          "text": [
            "Cities: ['A', 'B', 'C', 'D']\n",
            "Distance Matrix:\n",
            "   A  B  C  D\n",
            "A: [0, 4, 2, 7]\n",
            "B: [4, 0, 1, 5]\n",
            "C: [2, 1, 0, 3]\n",
            "D: [7, 5, 3, 0]\n"
          ]
        }
      ],
      "source": [
        "cities = ['A', 'B', 'C', 'D']\n",
        "distances = [\n",
        "    [0,4,2,7],  # A to [A,B,C,D]\n",
        "    [4,0,1,5],  # B to [A,B,C,D]\n",
        "    [2,1,0,3],  # C to [A,B,C,D]\n",
        "    [7,5,3,0]   # D to [A,B,C,D]\n",
        "]\n",
        "\n",
        "print(\"Cities:\", cities)\n",
        "print(\"Distance Matrix:\")\n",
        "print(\"   A  B  C  D\")\n",
        "for i, city in enumerate(cities):\n",
        "    print(f\"{city}: {distances[i]}\")"
      ]
    },
    {
      "cell_type": "code",
      "execution_count": 6,
      "metadata": {
        "id": "4H0xVIOXgeMV"
      },
      "outputs": [],
      "source": [
        "# Cell 2: Function to Calculate Tour Cost\n",
        "def tour_cost(tour):\n",
        "    \"\"\"Calculate total cost of tour including return to start\"\"\"\n",
        "    total_cost = 0\n",
        "\n",
        "    for i in range(len(tour)):\n",
        "        # Current city position in cities list\n",
        "        from_idx = cities.index(tour[i])\n",
        "        # Next city position (wrap around for last city)\n",
        "        to_idx = cities.index(tour[(i + 1) % len(tour)])\n",
        "\n",
        "        # Add distance from matrix\n",
        "        total_cost += distances[from_idx][to_idx]\n",
        "\n",
        "    return total_cost"
      ]
    },
    {
      "cell_type": "code",
      "execution_count": 7,
      "metadata": {
        "id": "cp_sMwiElxpl"
      },
      "outputs": [],
      "source": [
        "# Cell 3: Function to Generate Neighbors\n",
        "def generate_neighbors(tour):\n",
        "    \"\"\"Generate all neighbor tours by swapping two cities\"\"\"\n",
        "    neighbors = []\n",
        "\n",
        "    # Try swapping every pair of cities\n",
        "    for i in range(len(tour)):\n",
        "        for j in range(i + 1, len(tour)):\n",
        "            neighbor = tour.copy()\n",
        "            neighbor[i], neighbor[j] = neighbor[j], neighbor[i]  # Swap\n",
        "            neighbors.append(neighbor)\n",
        "\n",
        "    return neighbors"
      ]
    },
    {
      "cell_type": "code",
      "execution_count": 8,
      "metadata": {
        "id": "1ViI7O_8jLlU"
      },
      "outputs": [],
      "source": [
        "# Cell 4: Hill-Climbing Algorithm\n",
        "def hill_climb_tsp(cities, max_iter=100):\n",
        "    \"\"\"Hill-climbing algorithm for TSP\"\"\"\n",
        "    # Start with random tour\n",
        "    current_tour = cities.copy()\n",
        "    random.shuffle(current_tour)\n",
        "    current_cost = tour_cost(current_tour)\n",
        "\n",
        "    print(f\"Start Tour: {current_tour}\")\n",
        "    print(f\"Start Cost: {current_cost}\")\n",
        "\n",
        "    iteration = 0\n",
        "\n",
        "    while iteration < max_iter:\n",
        "        # Get all neighbors\n",
        "        neighbors = generate_neighbors(current_tour)\n",
        "\n",
        "        # Find best neighbor\n",
        "        best_neighbor = None\n",
        "        best_cost = current_cost\n",
        "\n",
        "        for neighbor in neighbors:\n",
        "            cost = tour_cost(neighbor)\n",
        "            if cost < best_cost:\n",
        "                best_neighbor = neighbor\n",
        "                best_cost = cost\n",
        "\n",
        "        # If no improvement found, stop\n",
        "        if best_neighbor is None:\n",
        "            print(\"No better neighbor found - stopping\")\n",
        "            break\n",
        "\n",
        "        # Move to better neighbor\n",
        "        current_tour = best_neighbor\n",
        "        current_cost = best_cost\n",
        "        print(f\"Improved to: {current_tour} (Cost: {current_cost})\")\n",
        "\n",
        "        iteration += 1\n",
        "\n",
        "    return current_tour, current_cost\n"
      ]
    },
    {
      "cell_type": "code",
      "execution_count": 9,
      "metadata": {
        "colab": {
          "base_uri": "https://localhost:8080/"
        },
        "id": "3EUfzVFyjQcc",
        "outputId": "199f92a5-4664-4329-b7e2-2856401cbdcf"
      },
      "outputs": [
        {
          "name": "stdout",
          "output_type": "stream",
          "text": [
            "=== HILL-CLIMBING TSP SOLVER ===\n",
            "Start Tour: ['C', 'B', 'D', 'A']\n",
            "Start Cost: 15\n",
            "Improved to: ['A', 'B', 'D', 'C'] (Cost: 14)\n",
            "No better neighbor found - stopping\n",
            "\n",
            "Final Tour: ['A', 'B', 'D', 'C']\n",
            "Final Cost: 14\n",
            "Complete Path: A -> B -> D -> C -> A\n"
          ]
        }
      ],
      "source": [
        " # Cell 5: Run the Algorithm\n",
        "print(\"=== HILL-CLIMBING TSP SOLVER ===\")\n",
        "random.seed(42)  # For consistent results\n",
        "\n",
        "final_tour, final_cost = hill_climb_tsp(cities)\n",
        "\n",
        "print(f\"\\nFinal Tour: {final_tour}\")\n",
        "print(f\"Final Cost: {final_cost}\")\n",
        "\n",
        "# Show the complete path\n",
        "path = \" -> \".join(final_tour) + f\" -> {final_tour[0]}\"\n",
        "print(f\"Complete Path: {path}\")"
      ]
    },
    {
      "cell_type": "code",
      "execution_count": null,
      "metadata": {
        "id": "a5rco1panW4e"
      },
      "outputs": [],
      "source": []
    },
    {
      "cell_type": "markdown",
      "metadata": {
        "id": "tBcgZ5n_ba3s"
      },
      "source": []
    }
  ],
  "metadata": {
    "colab": {
      "provenance": []
    },
    "kernelspec": {
      "display_name": "Python 3",
      "name": "python3"
    },
    "language_info": {
      "name": "python"
    }
  },
  "nbformat": 4,
  "nbformat_minor": 0
}
